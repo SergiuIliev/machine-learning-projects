{
 "cells": [
  {
   "cell_type": "code",
   "execution_count": null,
   "metadata": {
    "colab": {},
    "colab_type": "code",
    "id": "6DEFq8BHDEN4"
   },
   "outputs": [],
   "source": [
    "# Bayesian Machine Learning | Carnegie Mellon University | Homework 5 | 04 April 2020 | Sergiu Iliev\n",
    "import pandas as pd\n",
    "import numpy as np\n",
    "import math as m\n",
    "\n",
    "from scipy import stats          # statisics Python package\n",
    "import statsmodels.api as sm     # statsmodels is a complement to scipy for descriptive statistics models\n",
    "                                 # Documentation https://www.statsmodels.org/stable/\n",
    "from sklearn.tree import DecisionTreeRegressor # Import Decision Tree Classifier\n",
    "from sklearn.ensemble import RandomForestRegressor as RandomForest # Import Random Forrest Package\n",
    "\n",
    "from sklearn.model_selection import train_test_split # Import train_test_split function\n",
    "from sklearn import metrics #Import scikit-learn metrics module for accuracy calculation    \n",
    "    \n",
    "import matplotlib.pyplot as plt  # plotting library\n",
    "import seaborn as sns\n",
    "\n",
    "import warnings                  # ignore warnings \n",
    "warnings.simplefilter('ignore')\n",
    "\n",
    "%matplotlib inline"
   ]
  },
  {
   "cell_type": "markdown",
   "metadata": {
    "colab_type": "text",
    "id": "sIjWfu-4DEN9"
   },
   "source": [
    "# Ensemble Methods\n",
    "\n",
    "## (a) Bias and Variance evaluation for a Weak Learner (Decision Tree)\n",
    "\n",
    "The Friedman-Silverman function of the 10-dimension unit hypercube is given as:\n",
    "\n",
    "$$f(x) = 0.1 exp[4x_1] + \\frac{1}{1+exp[-20(x_2-0.5)]} + 3x_3 + 2x_4 + x_5$$\n",
    "\n",
    "**Note** Using this expression we can create a test & training dataset for a weak learner. The learner will be given as input the full 10 dimension input space and will output the function value. The function function above only takes in the first 5 dimensions as the rest are not affecting the function value. Therefore, the extra 5 dimensions do no have predictive power on the learner and are a good test of its robustness to noise. \n",
    "\n",
    "References used on hypercubes: [1](https://www.wikiwand.com/en/Hypercube_internetwork_topology), [2](https://www.wikiwand.com/en/Hypercube), [3](https://www.youtube.com/watch?v=iGO12Z5Lw8s)"
   ]
  },
  {
   "cell_type": "markdown",
   "metadata": {
    "colab_type": "text",
    "id": "lVyYY-npDEN-"
   },
   "source": [
    "**Generating Test and Train Datasets**"
   ]
  },
  {
   "cell_type": "code",
   "execution_count": null,
   "metadata": {
    "colab": {},
    "colab_type": "code",
    "id": "Ue7dk4qdDEN_",
    "outputId": "a076c7c4-1b30-4c9e-d5a3-cea777f26bb4"
   },
   "outputs": [
    {
     "data": {
      "text/html": [
       "<div>\n",
       "<style scoped>\n",
       "    .dataframe tbody tr th:only-of-type {\n",
       "        vertical-align: middle;\n",
       "    }\n",
       "\n",
       "    .dataframe tbody tr th {\n",
       "        vertical-align: top;\n",
       "    }\n",
       "\n",
       "    .dataframe thead th {\n",
       "        text-align: right;\n",
       "    }\n",
       "</style>\n",
       "<table border=\"1\" class=\"dataframe\">\n",
       "  <thead>\n",
       "    <tr style=\"text-align: right;\">\n",
       "      <th></th>\n",
       "      <th>1</th>\n",
       "      <th>2</th>\n",
       "      <th>3</th>\n",
       "      <th>4</th>\n",
       "      <th>5</th>\n",
       "      <th>6</th>\n",
       "      <th>7</th>\n",
       "      <th>8</th>\n",
       "      <th>9</th>\n",
       "      <th>10</th>\n",
       "    </tr>\n",
       "  </thead>\n",
       "  <tbody>\n",
       "    <tr>\n",
       "      <th>0</th>\n",
       "      <td>0.0</td>\n",
       "      <td>1.0</td>\n",
       "      <td>0.0</td>\n",
       "      <td>0.0</td>\n",
       "      <td>0.0</td>\n",
       "      <td>0.0</td>\n",
       "      <td>0.0</td>\n",
       "      <td>0.0</td>\n",
       "      <td>0.0</td>\n",
       "      <td>1.0</td>\n",
       "    </tr>\n",
       "    <tr>\n",
       "      <th>1</th>\n",
       "      <td>0.0</td>\n",
       "      <td>1.0</td>\n",
       "      <td>0.0</td>\n",
       "      <td>1.0</td>\n",
       "      <td>0.0</td>\n",
       "      <td>1.0</td>\n",
       "      <td>0.0</td>\n",
       "      <td>1.0</td>\n",
       "      <td>0.0</td>\n",
       "      <td>0.0</td>\n",
       "    </tr>\n",
       "    <tr>\n",
       "      <th>2</th>\n",
       "      <td>1.0</td>\n",
       "      <td>1.0</td>\n",
       "      <td>0.0</td>\n",
       "      <td>1.0</td>\n",
       "      <td>1.0</td>\n",
       "      <td>1.0</td>\n",
       "      <td>0.0</td>\n",
       "      <td>0.0</td>\n",
       "      <td>0.0</td>\n",
       "      <td>1.0</td>\n",
       "    </tr>\n",
       "    <tr>\n",
       "      <th>3</th>\n",
       "      <td>0.0</td>\n",
       "      <td>0.0</td>\n",
       "      <td>1.0</td>\n",
       "      <td>1.0</td>\n",
       "      <td>1.0</td>\n",
       "      <td>0.0</td>\n",
       "      <td>1.0</td>\n",
       "      <td>1.0</td>\n",
       "      <td>0.0</td>\n",
       "      <td>1.0</td>\n",
       "    </tr>\n",
       "    <tr>\n",
       "      <th>4</th>\n",
       "      <td>1.0</td>\n",
       "      <td>1.0</td>\n",
       "      <td>0.0</td>\n",
       "      <td>1.0</td>\n",
       "      <td>0.0</td>\n",
       "      <td>0.0</td>\n",
       "      <td>1.0</td>\n",
       "      <td>0.0</td>\n",
       "      <td>0.0</td>\n",
       "      <td>0.0</td>\n",
       "    </tr>\n",
       "  </tbody>\n",
       "</table>\n",
       "</div>"
      ],
      "text/plain": [
       "    1    2    3    4    5    6    7    8    9    10\n",
       "0  0.0  1.0  0.0  0.0  0.0  0.0  0.0  0.0  0.0  1.0\n",
       "1  0.0  1.0  0.0  1.0  0.0  1.0  0.0  1.0  0.0  0.0\n",
       "2  1.0  1.0  0.0  1.0  1.0  1.0  0.0  0.0  0.0  1.0\n",
       "3  0.0  0.0  1.0  1.0  1.0  0.0  1.0  1.0  0.0  1.0\n",
       "4  1.0  1.0  0.0  1.0  0.0  0.0  1.0  0.0  0.0  0.0"
      ]
     },
     "execution_count": 318,
     "metadata": {
      "tags": []
     },
     "output_type": "execute_result"
    }
   ],
   "source": [
    "# Generate the 10 dimension INPUT vector field\n",
    "gen_len = 1024                     # define the length of the input vectors to be generated\n",
    "np.random.seed(1)                  # define a random seed to be consisted across experiments\n",
    "x_np = np.random.rand(gen_len,10)  # generate 10 input vectors of the legth specified (from 0 to 1) \n",
    "x_np = np.round(x_np)              # reduce to unit hypercube (0 to 1)\n",
    "x = pd.DataFrame(x_np)             # convert this array into a dataframe for easy visualisation\n",
    "x.columns = np.arange(1, 11)       # rename the columns so that the first column, x1 has the label 1\n",
    "x.head(5)"
   ]
  },
  {
   "cell_type": "code",
   "execution_count": null,
   "metadata": {
    "colab": {},
    "colab_type": "code",
    "id": "gxXKJ08HDEOE",
    "outputId": "95f6c2f1-f1e7-47b5-ec34-4fdbfcc06909"
   },
   "outputs": [
    {
     "data": {
      "text/plain": [
       "0    1.099955\n",
       "1    3.099955\n",
       "2    9.459770\n",
       "3    6.100045\n",
       "4    8.459770\n",
       "dtype: float64"
      ]
     },
     "execution_count": 319,
     "metadata": {
      "tags": []
     },
     "output_type": "execute_result"
    }
   ],
   "source": [
    "# Generate the function values for the input vector using the Friedman-Silverman Function\n",
    "y = 0.1 * np.exp(4 * x[1])  +  1 / (1 + np.exp(-20 * (x[2] - 0.5)))  +  3*x[3]  +  2*x[4]  +  x[5]\n",
    "y.head(5)"
   ]
  },
  {
   "cell_type": "code",
   "execution_count": null,
   "metadata": {
    "colab": {},
    "colab_type": "code",
    "id": "MZGbSUlvDEOH"
   },
   "outputs": [],
   "source": [
    "# Split the data into test and train series\n",
    "x_train, x_test, y_train, y_test = train_test_split(x.loc[:, :], # select the all of the x vectors, not just 1 to 5\n",
    "                                                    y, test_size=0.3, random_state=1) # 70% training and 30% test"
   ]
  },
  {
   "cell_type": "markdown",
   "metadata": {
    "colab_type": "text",
    "id": "P0F0ijC6DEOK"
   },
   "source": [
    "**Decision Tree Algorithm** \n",
    "![Decision Tree Algorith](https://res.cloudinary.com/dyd911kmh/image/upload/f_auto,q_auto:best/v1545934190/2_btay8n.png)"
   ]
  },
  {
   "cell_type": "markdown",
   "metadata": {
    "colab_type": "text",
    "id": "g3ydGcoqDEOL"
   },
   "source": [
    "**Building a Decision Tree Model**\n",
    "\n",
    "References used: [1](https://scikit-learn.org/stable/auto_examples/tree/plot_tree_regression.html#sphx-glr-auto-examples-tree-plot-tree-regression-py), [2](https://scikit-learn.org/stable/auto_examples/ensemble/plot_bias_variance.html#sphx-glr-auto-examples-ensemble-plot-bias-variance-py)"
   ]
  },
  {
   "cell_type": "code",
   "execution_count": null,
   "metadata": {
    "colab": {},
    "colab_type": "code",
    "id": "RzhbVCtFDEOL"
   },
   "outputs": [],
   "source": [
    "# Define our Decision Tree Regression Function\n",
    "def dt_regressor(x_train, x_test, y_train, max_depth=None, visualise=False):\n",
    "    # Create Decision Tree classifer object\n",
    "    # reference: https://scikit-learn.org/stable/auto_examples/tree/plot_tree_regression.html\n",
    "    dt = DecisionTreeRegressor(max_depth=max_depth) # max_depth of None means the tree is fully grown\n",
    "\n",
    "    # Train Decision Tree Classifer\n",
    "    dt =dt.fit(x_train,y_train)\n",
    "\n",
    "    #Predict the response for test dataset\n",
    "    y_pred = dt.predict(x_test)\n",
    "    \n",
    "    if visualise:\n",
    "        # Plot the results for the first dimension\n",
    "        plt.figure()\n",
    "        plt.scatter(x[1], y, s=20, edgecolor=\"black\", c=\"darkorange\", label=\"data\")\n",
    "        plt.plot(x_test[1], y_pred, color=\"cornflowerblue\", label='max_depth=' + str(max_depth), linewidth=2)\n",
    "        plt.xlabel(\"x1\")\n",
    "        plt.ylabel(\"f(x)\")\n",
    "        plt.title(\"Decision Tree Regression (1 Dimension Cut)\")\n",
    "        plt.legend()\n",
    "        plt.show()\n",
    "        \n",
    "    return y_pred"
   ]
  },
  {
   "cell_type": "code",
   "execution_count": null,
   "metadata": {
    "colab": {},
    "colab_type": "code",
    "id": "YMKPQrzsDEOO",
    "outputId": "a567d7bf-ca0b-49ba-dc10-7a86cbb8e7d1",
    "scrolled": true
   },
   "outputs": [
    {
     "data": {
      "image/png": "[encoded data removed]",
      "text/plain": [
       "<Figure size 432x288 with 1 Axes>"
      ]
     },
     "metadata": {
      "needs_background": "light",
      "tags": []
     },
     "output_type": "display_data"
    },
    {
     "data": {
      "text/plain": [
       "array([3.73259192, 3.73259192, 3.73259192, 3.73259192, 8.86659313,\n",
       "       3.73259192, 3.73259192, 8.86659313, 8.86659313, 3.73259192,\n",
       "       8.86659313, 3.73259192, 3.73259192, 3.73259192, 8.86659313,\n",
       "       3.73259192, 3.73259192, 3.73259192, 8.86659313, 8.86659313,\n",
       "       3.73259192, 8.86659313, 8.86659313, 3.73259192, 8.86659313,\n",
       "       8.86659313, 8.86659313, 8.86659313, 8.86659313, 3.73259192,\n",
       "       3.73259192, 3.73259192, 3.73259192, 8.86659313, 8.86659313,\n",
       "       3.73259192, 8.86659313, 8.86659313, 3.73259192, 3.73259192,\n",
       "       8.86659313, 3.73259192, 3.73259192, 8.86659313, 3.73259192,\n",
       "       3.73259192, 8.86659313, 8.86659313, 8.86659313, 8.86659313,\n",
       "       3.73259192, 3.73259192, 8.86659313, 3.73259192, 8.86659313,\n",
       "       8.86659313, 3.73259192, 8.86659313, 8.86659313, 8.86659313,\n",
       "       8.86659313, 8.86659313, 3.73259192, 8.86659313, 3.73259192,\n",
       "       8.86659313, 8.86659313, 8.86659313, 3.73259192, 3.73259192,\n",
       "       3.73259192, 3.73259192, 3.73259192, 3.73259192, 3.73259192,\n",
       "       3.73259192, 8.86659313, 8.86659313, 8.86659313, 8.86659313,\n",
       "       8.86659313, 3.73259192, 3.73259192, 3.73259192, 8.86659313,\n",
       "       3.73259192, 3.73259192, 3.73259192, 8.86659313, 8.86659313,\n",
       "       3.73259192, 8.86659313, 8.86659313, 8.86659313, 3.73259192,\n",
       "       3.73259192, 3.73259192, 8.86659313, 3.73259192, 3.73259192,\n",
       "       8.86659313, 8.86659313, 8.86659313, 8.86659313, 8.86659313,\n",
       "       3.73259192, 3.73259192, 3.73259192, 3.73259192, 8.86659313,\n",
       "       3.73259192, 8.86659313, 3.73259192, 3.73259192, 8.86659313,\n",
       "       3.73259192, 8.86659313, 8.86659313, 3.73259192, 3.73259192,\n",
       "       3.73259192, 3.73259192, 3.73259192, 3.73259192, 8.86659313,\n",
       "       3.73259192, 3.73259192, 8.86659313, 3.73259192, 3.73259192,\n",
       "       3.73259192, 3.73259192, 8.86659313, 3.73259192, 8.86659313,\n",
       "       3.73259192, 8.86659313, 8.86659313, 8.86659313, 3.73259192,\n",
       "       8.86659313, 8.86659313, 3.73259192, 8.86659313, 3.73259192,\n",
       "       3.73259192, 3.73259192, 3.73259192, 3.73259192, 3.73259192,\n",
       "       8.86659313, 8.86659313, 3.73259192, 3.73259192, 8.86659313,\n",
       "       3.73259192, 3.73259192, 3.73259192, 3.73259192, 3.73259192,\n",
       "       3.73259192, 3.73259192, 8.86659313, 3.73259192, 8.86659313,\n",
       "       8.86659313, 3.73259192, 8.86659313, 3.73259192, 8.86659313,\n",
       "       8.86659313, 3.73259192, 3.73259192, 3.73259192, 3.73259192,\n",
       "       3.73259192, 8.86659313, 8.86659313, 3.73259192, 3.73259192,\n",
       "       8.86659313, 3.73259192, 8.86659313, 3.73259192, 8.86659313,\n",
       "       8.86659313, 3.73259192, 3.73259192, 8.86659313, 3.73259192,\n",
       "       3.73259192, 8.86659313, 3.73259192, 8.86659313, 3.73259192,\n",
       "       8.86659313, 3.73259192, 3.73259192, 3.73259192, 3.73259192,\n",
       "       8.86659313, 3.73259192, 3.73259192, 8.86659313, 3.73259192,\n",
       "       3.73259192, 3.73259192, 3.73259192, 3.73259192, 3.73259192,\n",
       "       8.86659313, 8.86659313, 3.73259192, 3.73259192, 8.86659313,\n",
       "       8.86659313, 3.73259192, 3.73259192, 8.86659313, 8.86659313,\n",
       "       8.86659313, 3.73259192, 8.86659313, 8.86659313, 3.73259192,\n",
       "       8.86659313, 8.86659313, 3.73259192, 8.86659313, 8.86659313,\n",
       "       8.86659313, 8.86659313, 8.86659313, 3.73259192, 8.86659313,\n",
       "       3.73259192, 3.73259192, 3.73259192, 8.86659313, 8.86659313,\n",
       "       3.73259192, 8.86659313, 8.86659313, 3.73259192, 8.86659313,\n",
       "       8.86659313, 3.73259192, 3.73259192, 3.73259192, 8.86659313,\n",
       "       8.86659313, 3.73259192, 3.73259192, 8.86659313, 8.86659313,\n",
       "       8.86659313, 3.73259192, 8.86659313, 3.73259192, 3.73259192,\n",
       "       3.73259192, 3.73259192, 3.73259192, 3.73259192, 3.73259192,\n",
       "       3.73259192, 3.73259192, 3.73259192, 3.73259192, 8.86659313,\n",
       "       8.86659313, 8.86659313, 3.73259192, 8.86659313, 3.73259192,\n",
       "       3.73259192, 8.86659313, 8.86659313, 3.73259192, 8.86659313,\n",
       "       3.73259192, 3.73259192, 8.86659313, 3.73259192, 3.73259192,\n",
       "       8.86659313, 3.73259192, 8.86659313, 3.73259192, 8.86659313,\n",
       "       8.86659313, 3.73259192, 8.86659313, 8.86659313, 8.86659313,\n",
       "       8.86659313, 8.86659313, 3.73259192, 8.86659313, 8.86659313,\n",
       "       3.73259192, 8.86659313, 8.86659313, 8.86659313, 8.86659313,\n",
       "       8.86659313, 3.73259192, 8.86659313])"
      ]
     },
     "execution_count": 322,
     "metadata": {
      "tags": []
     },
     "output_type": "execute_result"
    }
   ],
   "source": [
    "dt_regressor(x_train, x_test, y_train, max_depth=1, visualise=True)"
   ]
  },
  {
   "cell_type": "markdown",
   "metadata": {
    "colab_type": "text",
    "id": "fHK3qlyoDEOU"
   },
   "source": [
    "**Checking the Decision Tree bias and variance for various depths** "
   ]
  },
  {
   "cell_type": "code",
   "execution_count": null,
   "metadata": {
    "colab": {},
    "colab_type": "code",
    "id": "kTHDt_KmDEOV",
    "outputId": "39c86930-796d-4b21-ec32-c923b49c8e7a"
   },
   "outputs": [
    {
     "name": "stdout",
     "output_type": "stream",
     "text": [
      "Results: 3.3881 (bias^2) 6.5559 (var) = 9.9440 (total error)\n"
     ]
    }
   ],
   "source": [
    "# Max depth of 1 (tree stump)\n",
    "y_pred = dt_regressor(x_train, x_test, y_train, max_depth=1, visualise=False)\n",
    "\n",
    "y_bias = (y_test - y_pred) ** 2          # bias = the squared error\n",
    "# NB the expectancy for y_pred at row 1 is y_pred since y is 1D. In other words, mean(y_pred, axis=0) = y_pred\n",
    "y_var = np.var(y_pred)                   # variance of the the decision tree predictor \n",
    "print(\"Results: {0:.4f} (bias^2) {1:.4f} (var) = {2:.4f} (total error)\".format(np.mean(y_bias), np.mean(y_var), \n",
    "                                                                               np.mean(y_bias) + np.mean(y_var)))"
   ]
  },
  {
   "cell_type": "markdown",
   "metadata": {
    "colab_type": "text",
    "id": "NTCvbXVEDEOZ"
   },
   "source": [
    "This is the most complext decision tree model, it has a high variance (since it overfits), but a low bias "
   ]
  },
  {
   "cell_type": "code",
   "execution_count": null,
   "metadata": {
    "colab": {},
    "colab_type": "code",
    "id": "PFWIe7YADEOa",
    "outputId": "c2c0228f-efdf-4bc0-afad-0699b76d92c8"
   },
   "outputs": [
    {
     "name": "stdout",
     "output_type": "stream",
     "text": [
      "Results: 1.3680 (bias^2) 8.9555 (var) = 10.3236 (total error)\n"
     ]
    }
   ],
   "source": [
    "# Max depth of 2 (Partly Grown Tree)\n",
    "y_pred = dt_regressor(x_train, x_test, y_train, max_depth=2, visualise=False)\n",
    "\n",
    "y_bias = (y_test - y_pred) ** 2          # bias = the squared error\n",
    "y_var = np.var(y_pred)                   # variance of the the decision tree predictor \n",
    "print(\"Results: {0:.4f} (bias^2) {1:.4f} (var) = {2:.4f} (total error)\".format(np.mean(y_bias), np.mean(y_var), \n",
    "                                                                               np.mean(y_bias) + np.mean(y_var)))"
   ]
  },
  {
   "cell_type": "code",
   "execution_count": null,
   "metadata": {
    "colab": {},
    "colab_type": "code",
    "id": "iLiEjfukDEOe",
    "outputId": "d187db06-b249-48a6-a12c-4422e9c02520"
   },
   "outputs": [
    {
     "name": "stdout",
     "output_type": "stream",
     "text": [
      "Results: 0.0000 (bias^2) 10.6415 (var) = 10.6415 (total error)\n"
     ]
    }
   ],
   "source": [
    "# Max depth of None (Fully Grown Tree)\n",
    "y_pred = dt_regressor(x_train, x_test, y_train, max_depth=None, visualise=False)\n",
    "\n",
    "y_bias = (y_test - y_pred) ** 2          # bias = the squared error\n",
    "y_var = np.var(y_pred)                   # variance of the the decision tree predictor \n",
    "print(\"Results: {0:.4f} (bias^2) {1:.4f} (var) = {2:.4f} (total error)\".format(np.mean(y_bias), np.mean(y_var), \n",
    "                                                                               np.mean(y_bias) + np.mean(y_var)))"
   ]
  },
  {
   "cell_type": "markdown",
   "metadata": {
    "colab_type": "text",
    "id": "Q4aoMA6rDEOl"
   },
   "source": [
    "## (b) Ensemble Method Recommendation\n",
    "\n",
    "Observations from the above model experiments\n",
    "\n",
    "- The most complex Decision Tree Model (max_depth=0) overfits the data and thus it has a high variance, however it matches the test dataset well and thus it has a low bias\n",
    "- In the case of complex trees, the noise in the data i.e. the features with no predictive power x6 to x10 are increasing error\n",
    "- The simplest decision tree actually achieves the lowest total error, however it has a very high bias\n",
    "- An ensamble method applied to the low complexity decision tree should improve accuracy (bias), hopefully keeping the same level of precision (variance)\n",
    "- The following trade-off diagram (also discussed in the course visually displays this concept) [reference](https://towardsdatascience.com/random-forests-and-the-bias-variance-tradeoff-3b77fee339b4):\n",
    "![Trade-off](https://miro.medium.com/max/984/1*kADA5Q4al9DRLoXck6_6Xw.png)\n",
    "- What we would like, ideally, is low bias-low variance. \n",
    "- To achieve this we will build on the weak learner we are going to implement a Random Forrest ensemble method."
   ]
  },
  {
   "cell_type": "markdown",
   "metadata": {
    "colab_type": "text",
    "id": "rLi2PipIDEOm"
   },
   "source": [
    "# (c) Ensemble Method Implementation (Random Forrest)\n",
    "\n",
    "I will implement a **Bootstrap Variance analysis on a Random Forrest Regressor** on the weak learner decision tree from previously. Initially I used bagging, but decided to implement a random forrest for better results since the exercise proved more interesting this way.\n",
    "\n",
    "References used: [1](https://scikit-learn.org/stable/modules/generated/sklearn.ensemble.BaggingRegressor.html#sklearn.ensemble.BaggingRegressor), [2](https://towardsdatascience.com/random-forests-and-the-bias-variance-tradeoff-3b77fee339b4), [3](https://en.wikipedia.org/wiki/Bessel%27s_correction), Lecture Notes"
   ]
  },
  {
   "cell_type": "code",
   "execution_count": null,
   "metadata": {
    "colab": {},
    "colab_type": "code",
    "id": "nFvCNYPSDEOr"
   },
   "outputs": [],
   "source": [
    "# Instantiate the RandomForestRegressor\n",
    "# e = RandomForest(n_estimators=10, max_depth=None)\n",
    "# e.fit(x_train, y_train)   # train the model\n",
    "# e.score(x_test, y_test)   # score it on your validation set"
   ]
  },
  {
   "cell_type": "code",
   "execution_count": null,
   "metadata": {
    "colab": {},
    "colab_type": "code",
    "id": "Q0HMId28DEOy"
   },
   "outputs": [],
   "source": [
    "# Define a Basic Bootstrap Variance Function on the Random Forrests from the previous week learner decision trees\n",
    "# reference: lecture notes\n",
    "\n",
    "# This will be defined as a function with various parameters since these will be used in the following points of the problem\n",
    "def bbv_rf_ensemble_evaluation(x_train, \n",
    "                                x_test, \n",
    "                                y_train, \n",
    "                                n_trees=10,     # the number of models in the ensemble\n",
    "                                max_depth=None, # the max depth of the weak learner decision trees, fully grown by default\n",
    "                                ndim=10):       # how many features the models in the ensamble are considering, by default it considers all features including those with no predictive power\n",
    "    \n",
    "    # Instantiate the RandomForestRegressor\n",
    "    rf = RandomForest(n_estimators=n_trees, max_depth=max_depth)\n",
    "    \n",
    "    # Train the model on the number of features specified\n",
    "    train_data = x_train.iloc[:, 0:ndim]\n",
    "    rf.fit(train_data, y_train)\n",
    "    \n",
    "    # Define the Test Dataset\n",
    "    test_data = x_test.iloc[:,0:ndim]\n",
    "    \n",
    "    # Evaluate the ensemble (Random Forrest)\n",
    "    rf.score(test_data, y_test)\n",
    "        \n",
    "    # Evaluate the individual models in the ensemble (Decision Trees) \n",
    "    # Generate a list of all of the individual weak learners in the ensemble on he unseen data\n",
    "    predictions = [x.predict(test_data) for x in rf.estimators_]\n",
    "    \n",
    "    means = []\n",
    "    variances = []\n",
    "    for ensemble in predictions:\n",
    "        means.append(np.mean(ensemble))\n",
    "        variances.append(np.var(ensemble, ddof=1))\n",
    "        # The average squared deviation is normally calculated as x.sum() / N, where N = len(x). \n",
    "        # If, however, ddof is specified, the divisor N - ddof is used instead. \n",
    "        # In standard statistics practice, ddof=1 provides an unbiased estimator of the variance of the infinite\n",
    "        # population. ddof=0 provides a maximum likelihood estimate of the variance for normally distributed variables. \n",
    "        # The standard deviation computed in this function is the square root of the estimated variance,\n",
    "        # so even with ddof=1, it will not be an unbiased estimate of the standard deviation per se.\n",
    "        \n",
    "    zscores = [x / y for x, y in zip(means, np.sqrt(variances))]\n",
    "    \n",
    "    MSE = np.sqrt(np.mean(np.square(means)))\n",
    "    STD = np.sqrt(np.mean(variances))\n",
    "    ZSCORE = np.mean(np.square(zscores))    \n",
    "    \n",
    "    print(\"Ensemble MSE (bias) = {}\".format(MSE))\n",
    "    print(\"Bootstrap std. dev (variance) = {}\".format(STD))\n",
    "    print(\"Mean square zscore = {}\".format(ZSCORE))\n",
    "    \n",
    "    return MSE, STD, ZSCORE"
   ]
  },
  {
   "cell_type": "code",
   "execution_count": null,
   "metadata": {
    "colab": {},
    "colab_type": "code",
    "id": "RiRcwbYrDEO9",
    "outputId": "8d6edacd-ad08-4130-fc88-977948237d0f"
   },
   "outputs": [
    {
     "name": "stdout",
     "output_type": "stream",
     "text": [
      "Ensemble MSE (bias) = 5.94887190493783\n",
      "Bootstrap std. dev (variance) = 3.2674353202404203\n",
      "Mean square zscore = 3.3147840182819586\n"
     ]
    },
    {
     "data": {
      "text/plain": [
       "(5.94887190493783, 3.2674353202404203, 3.3147840182819586)"
      ]
     },
     "execution_count": 409,
     "metadata": {
      "tags": []
     },
     "output_type": "execute_result"
    }
   ],
   "source": [
    "bbv_rf_ensemble_evaluation(x_train, x_test, y_train, n_trees=10, max_depth=None, ndim=10)"
   ]
  },
  {
   "cell_type": "markdown",
   "metadata": {
    "colab_type": "text",
    "id": "B1bTpaCgDEPJ"
   },
   "source": [
    "# (d) Ensemble Performance Analysis\n",
    "\n",
    "We note that the Random Forrest offers acceptable results that are better than the individual trees even for fully grown decision trees (which are high variance and susceptible to noise). The z-score indicates a statistically acceptable prediction confidence."
   ]
  },
  {
   "cell_type": "code",
   "execution_count": null,
   "metadata": {
    "colab": {},
    "colab_type": "code",
    "id": "Bjwg6TrkDEPK",
    "outputId": "7100f04f-6cb8-4408-cccc-88b19232309e"
   },
   "outputs": [
    {
     "name": "stdout",
     "output_type": "stream",
     "text": [
      "Ensemble MSE (bias) = 5.94887190493783\n",
      "Bootstrap std. dev (variance) = 3.2674353202404203\n",
      "Mean square zscore = 3.3147840182819586\n"
     ]
    },
    {
     "data": {
      "text/plain": [
       "(5.94887190493783, 3.2674353202404203, 3.3147840182819586)"
      ]
     },
     "execution_count": 410,
     "metadata": {
      "tags": []
     },
     "output_type": "execute_result"
    }
   ],
   "source": [
    "bbv_rf_ensemble_evaluation(x_train, x_test, y_train, n_trees=1, max_depth=None, ndim=10)"
   ]
  },
  {
   "cell_type": "markdown",
   "metadata": {
    "colab_type": "text",
    "id": "L66Obs6iDEPS"
   },
   "source": [
    "Significantly increasing the size of the ensable (from 10 to 10,000 decision trees) offers almost no reduction in MSE and an increase in the prediction confidence, however it takes order of magnitude longer to run. "
   ]
  },
  {
   "cell_type": "code",
   "execution_count": null,
   "metadata": {
    "colab": {},
    "colab_type": "code",
    "id": "ynMewC_ZDEPT",
    "outputId": "41e6ae0e-e297-46ac-e694-cebe0cb18fb6"
   },
   "outputs": [
    {
     "name": "stdout",
     "output_type": "stream",
     "text": [
      "Ensemble MSE (bias) = 5.948872554583822\n",
      "Bootstrap std. dev (variance) = 3.2674346519510142\n",
      "Mean square zscore = 3.314786106753614\n"
     ]
    },
    {
     "data": {
      "text/plain": [
       "(5.948872554583822, 3.2674346519510142, 3.314786106753614)"
      ]
     },
     "execution_count": 411,
     "metadata": {
      "tags": []
     },
     "output_type": "execute_result"
    }
   ],
   "source": [
    "bbv_rf_ensemble_evaluation(x_train, x_test, y_train, n_trees=10000, max_depth=None, ndim=10)"
   ]
  },
  {
   "cell_type": "markdown",
   "metadata": {
    "colab_type": "text",
    "id": "PZ9JIwNiDEPb"
   },
   "source": [
    "# (e) Ensemble Hyperparameter Tuning\n"
   ]
  },
  {
   "cell_type": "markdown",
   "metadata": {
    "colab_type": "text",
    "id": "vrgQRxv1DEPd"
   },
   "source": [
    "**Sensitivity analysis to forrest size**"
   ]
  },
  {
   "cell_type": "code",
   "execution_count": null,
   "metadata": {
    "colab": {},
    "colab_type": "code",
    "id": "wAZWk-nyDEPf",
    "outputId": "553614aa-5a35-40f7-eb3f-88338e467a78"
   },
   "outputs": [
    {
     "name": "stdout",
     "output_type": "stream",
     "text": [
      "\n",
      "Sensitivity parameter: number of trees in the random forrest =  1\n",
      "Ensemble MSE (bias) = 5.94887190493783\n",
      "Bootstrap std. dev (variance) = 3.26743532024042\n",
      "Mean square zscore = 3.3147840182819595\n",
      "\n",
      "Sensitivity parameter: number of trees in the random forrest =  2\n",
      "Ensemble MSE (bias) = 5.94887190493783\n",
      "Bootstrap std. dev (variance) = 3.26743532024042\n",
      "Mean square zscore = 3.314784018281959\n",
      "\n",
      "Sensitivity parameter: number of trees in the random forrest =  3\n",
      "Ensemble MSE (bias) = 5.948871904937829\n",
      "Bootstrap std. dev (variance) = 3.2674353202404203\n",
      "Mean square zscore = 3.3147840182819586\n",
      "\n",
      "Sensitivity parameter: number of trees in the random forrest =  4\n",
      "Ensemble MSE (bias) = 5.948871904937829\n",
      "Bootstrap std. dev (variance) = 3.26743532024042\n",
      "Mean square zscore = 3.314784018281958\n",
      "\n",
      "Sensitivity parameter: number of trees in the random forrest =  5\n",
      "Ensemble MSE (bias) = 5.948871904937829\n",
      "Bootstrap std. dev (variance) = 3.2674353202404203\n",
      "Mean square zscore = 3.3147840182819586\n",
      "\n",
      "Sensitivity parameter: number of trees in the random forrest =  6\n",
      "Ensemble MSE (bias) = 5.94887190493783\n",
      "Bootstrap std. dev (variance) = 3.2674353202404203\n",
      "Mean square zscore = 3.3147840182819586\n",
      "\n",
      "Sensitivity parameter: number of trees in the random forrest =  7\n",
      "Ensemble MSE (bias) = 5.948871904937829\n",
      "Bootstrap std. dev (variance) = 3.2674353202404203\n",
      "Mean square zscore = 3.3147840182819586\n",
      "\n",
      "Sensitivity parameter: number of trees in the random forrest =  8\n",
      "Ensemble MSE (bias) = 5.948871904937829\n",
      "Bootstrap std. dev (variance) = 3.2674353202404203\n",
      "Mean square zscore = 3.3147840182819586\n",
      "\n",
      "Sensitivity parameter: number of trees in the random forrest =  9\n",
      "Ensemble MSE (bias) = 5.948871904937829\n",
      "Bootstrap std. dev (variance) = 3.2674353202404203\n",
      "Mean square zscore = 3.314784018281958\n",
      "\n",
      "Sensitivity parameter: number of trees in the random forrest =  10\n",
      "Ensemble MSE (bias) = 5.94887190493783\n",
      "Bootstrap std. dev (variance) = 3.2674353202404203\n",
      "Mean square zscore = 3.3147840182819586\n",
      "\n",
      "Sensitivity parameter: number of trees in the random forrest =  11\n",
      "Ensemble MSE (bias) = 5.948871904937829\n",
      "Bootstrap std. dev (variance) = 3.26743532024042\n",
      "Mean square zscore = 3.314784018281958\n",
      "\n",
      "Sensitivity parameter: number of trees in the random forrest =  12\n",
      "Ensemble MSE (bias) = 5.948871904937829\n",
      "Bootstrap std. dev (variance) = 3.2674353202404203\n",
      "Mean square zscore = 3.3147840182819572\n",
      "\n",
      "Sensitivity parameter: number of trees in the random forrest =  13\n",
      "Ensemble MSE (bias) = 5.948871904937829\n",
      "Bootstrap std. dev (variance) = 3.2674353202404203\n",
      "Mean square zscore = 3.3147840182819577\n",
      "\n",
      "Sensitivity parameter: number of trees in the random forrest =  14\n",
      "Ensemble MSE (bias) = 5.94887190493783\n",
      "Bootstrap std. dev (variance) = 3.26743532024042\n",
      "Mean square zscore = 3.314784018281958\n",
      "\n",
      "Sensitivity parameter: number of trees in the random forrest =  15\n",
      "Ensemble MSE (bias) = 5.948871904937831\n",
      "Bootstrap std. dev (variance) = 3.26743532024042\n",
      "Mean square zscore = 3.3147840182819577\n",
      "\n",
      "Sensitivity parameter: number of trees in the random forrest =  16\n",
      "Ensemble MSE (bias) = 5.948871904937829\n",
      "Bootstrap std. dev (variance) = 3.26743532024042\n",
      "Mean square zscore = 3.3147840182819586\n",
      "\n",
      "Sensitivity parameter: number of trees in the random forrest =  17\n",
      "Ensemble MSE (bias) = 5.948871904937829\n",
      "Bootstrap std. dev (variance) = 3.26743532024042\n",
      "Mean square zscore = 3.3147840182819586\n",
      "\n",
      "Sensitivity parameter: number of trees in the random forrest =  18\n",
      "Ensemble MSE (bias) = 5.948871904937829\n",
      "Bootstrap std. dev (variance) = 3.26743532024042\n",
      "Mean square zscore = 3.3147840182819586\n",
      "\n",
      "Sensitivity parameter: number of trees in the random forrest =  19\n",
      "Ensemble MSE (bias) = 5.94887190493783\n",
      "Bootstrap std. dev (variance) = 3.26743532024042\n",
      "Mean square zscore = 3.314784018281958\n",
      "\n",
      "Sensitivity parameter: number of trees in the random forrest =  20\n",
      "Ensemble MSE (bias) = 5.94887190493783\n",
      "Bootstrap std. dev (variance) = 3.26743532024042\n",
      "Mean square zscore = 3.3147840182819586\n",
      "\n",
      "Sensitivity parameter: number of trees in the random forrest =  21\n",
      "Ensemble MSE (bias) = 5.94887190493783\n",
      "Bootstrap std. dev (variance) = 3.26743532024042\n",
      "Mean square zscore = 3.3147840182819586\n",
      "\n",
      "Sensitivity parameter: number of trees in the random forrest =  22\n",
      "Ensemble MSE (bias) = 5.94887190493783\n",
      "Bootstrap std. dev (variance) = 3.26743532024042\n",
      "Mean square zscore = 3.3147840182819577\n",
      "\n",
      "Sensitivity parameter: number of trees in the random forrest =  23\n",
      "Ensemble MSE (bias) = 5.94887190493783\n",
      "Bootstrap std. dev (variance) = 3.26743532024042\n",
      "Mean square zscore = 3.3147840182819577\n",
      "\n",
      "Sensitivity parameter: number of trees in the random forrest =  24\n",
      "Ensemble MSE (bias) = 5.948871904937829\n",
      "Bootstrap std. dev (variance) = 3.2674353202404203\n",
      "Mean square zscore = 3.3147840182819586\n",
      "\n",
      "Sensitivity parameter: number of trees in the random forrest =  25\n",
      "Ensemble MSE (bias) = 5.94887190493783\n",
      "Bootstrap std. dev (variance) = 3.2674353202404203\n",
      "Mean square zscore = 3.3147840182819586\n",
      "\n",
      "Sensitivity parameter: number of trees in the random forrest =  26\n",
      "Ensemble MSE (bias) = 5.948871904937829\n",
      "Bootstrap std. dev (variance) = 3.2674353202404203\n",
      "Mean square zscore = 3.314784018281958\n",
      "\n",
      "Sensitivity parameter: number of trees in the random forrest =  27\n",
      "Ensemble MSE (bias) = 5.948871904937829\n",
      "Bootstrap std. dev (variance) = 3.2674353202404203\n",
      "Mean square zscore = 3.314784018281958\n",
      "\n",
      "Sensitivity parameter: number of trees in the random forrest =  28\n",
      "Ensemble MSE (bias) = 5.94887190493783\n",
      "Bootstrap std. dev (variance) = 3.2674353202404203\n",
      "Mean square zscore = 3.314784018281958\n",
      "\n",
      "Sensitivity parameter: number of trees in the random forrest =  29\n",
      "Ensemble MSE (bias) = 5.948871904937829\n",
      "Bootstrap std. dev (variance) = 3.26743532024042\n",
      "Mean square zscore = 3.314784018281958\n",
      "\n",
      "Sensitivity parameter: number of trees in the random forrest =  30\n",
      "Ensemble MSE (bias) = 5.948871904937829\n",
      "Bootstrap std. dev (variance) = 3.26743532024042\n",
      "Mean square zscore = 3.3147840182819577\n"
     ]
    }
   ],
   "source": [
    "# Initiate list to store various ensemble performance parameters\n",
    "n = 30\n",
    "MSE=np.zeros(n)\n",
    "STD=np.zeros(n)\n",
    "ZSCORE=np.zeros(n)\n",
    "test_range = np.arange(1,n+1)\n",
    "\n",
    "# Carry out a sensitivity analysis for the random forrest size\n",
    "for i, n_trees in enumerate(test_range):\n",
    "    print('\\nSensitivity parameter: number of trees in the random forrest = ', n_trees)\n",
    "    (MSE[i], STD[i], ZSCORE[i]) = bbv_rf_ensemble_evaluation(\n",
    "        x_train, x_test, y_train, n_trees=n_trees, max_depth=None, ndim=10)"
   ]
  },
  {
   "cell_type": "code",
   "execution_count": null,
   "metadata": {
    "colab": {},
    "colab_type": "code",
    "id": "3gc-dMBNDEPl",
    "outputId": "732080b7-d993-41f1-a312-9e73a2df0f99"
   },
   "outputs": [
    {
     "data": {
      "image/png": "[encoded data removed]",
      "text/plain": [
       "<Figure size 600x400 with 1 Axes>"
      ]
     },
     "metadata": {
      "needs_background": "light",
      "tags": []
     },
     "output_type": "display_data"
    }
   ],
   "source": [
    "# Plot the results\n",
    "plt.figure(figsize=(6, 4), dpi=100)\n",
    "plt.scatter(test_range, MSE, s=20, edgecolor=\"black\", c=\"darkorange\", label=\"MSE\")\n",
    "plt.scatter(test_range, STD, s=20, c=\"cornflowerblue\", label='Std. dev')\n",
    "plt.scatter(test_range, ZSCORE, s=20, c=\"green\", label='ZSCORE')\n",
    "plt.xlabel('n_trees=' + str(n_trees))\n",
    "plt.ylabel('Error')\n",
    "plt.title(\"Random Forrest Ensemble Performance (sensitivity to forrest size)\")\n",
    "plt.legend()\n",
    "plt.show()"
   ]
  },
  {
   "cell_type": "markdown",
   "metadata": {
    "colab_type": "text",
    "id": "WG8I5uw_DEP0"
   },
   "source": [
    "Therefore, the ensemble does not show any sensitivity to forrest size"
   ]
  },
  {
   "cell_type": "code",
   "execution_count": null,
   "metadata": {
    "colab": {},
    "colab_type": "code",
    "id": "xTRkXfywDEP0",
    "outputId": "9c0ad2f2-7531-4199-b0d5-8034747f70be"
   },
   "outputs": [
    {
     "name": "stdout",
     "output_type": "stream",
     "text": [
      "Ensemble MSE (bias) = 5.94887190493783\n",
      "Bootstrap std. dev (variance) = 3.2674353202404203\n",
      "Mean square zscore = 3.3147840182819586\n"
     ]
    },
    {
     "data": {
      "text/plain": [
       "(5.94887190493783, 3.2674353202404203, 3.3147840182819586)"
      ]
     },
     "execution_count": 414,
     "metadata": {
      "tags": []
     },
     "output_type": "execute_result"
    }
   ],
   "source": [
    "bbv_rf_ensemble_evaluation(x_train, x_test, y_train, n_trees=1, max_depth=None, ndim=10)"
   ]
  },
  {
   "cell_type": "markdown",
   "metadata": {
    "colab_type": "text",
    "id": "osFkcmmcDEP5"
   },
   "source": [
    "**Sensitivity analysis to single model complexity (tree depth)**"
   ]
  },
  {
   "cell_type": "code",
   "execution_count": null,
   "metadata": {
    "colab": {},
    "colab_type": "code",
    "id": "XTqnReU3DEP5",
    "outputId": "2bfb55e1-ee4d-4473-b0fd-65d2cc612efc",
    "scrolled": true
   },
   "outputs": [
    {
     "name": "stdout",
     "output_type": "stream",
     "text": [
      "\n",
      "Sensitivity parameter: depth of trees in the random forrest =  1\n",
      "Ensemble MSE (bias) = 6.106389514552453\n",
      "Bootstrap std. dev (variance) = 2.554890536060541\n",
      "Mean square zscore = 5.717426533769941\n",
      "\n",
      "Sensitivity parameter: depth of trees in the random forrest =  2\n",
      "Ensemble MSE (bias) = 5.962243163756084\n",
      "Bootstrap std. dev (variance) = 3.01494663659385\n",
      "Mean square zscore = 3.912507646692498\n",
      "\n",
      "Sensitivity parameter: depth of trees in the random forrest =  3\n",
      "Ensemble MSE (bias) = 5.985695836165216\n",
      "Bootstrap std. dev (variance) = 3.1473932195514958\n",
      "Mean square zscore = 3.6171229352504044\n",
      "\n",
      "Sensitivity parameter: depth of trees in the random forrest =  4\n",
      "Ensemble MSE (bias) = 5.99659792593658\n",
      "Bootstrap std. dev (variance) = 3.205716501309791\n",
      "Mean square zscore = 3.500853590698823\n",
      "\n",
      "Sensitivity parameter: depth of trees in the random forrest =  5\n",
      "Ensemble MSE (bias) = 5.94887190493783\n",
      "Bootstrap std. dev (variance) = 3.2674353202404203\n",
      "Mean square zscore = 3.3147840182819586\n",
      "\n",
      "Sensitivity parameter: depth of trees in the random forrest =  6\n",
      "Ensemble MSE (bias) = 5.94887190493783\n",
      "Bootstrap std. dev (variance) = 3.2674353202404203\n",
      "Mean square zscore = 3.3147840182819586\n",
      "\n",
      "Sensitivity parameter: depth of trees in the random forrest =  7\n",
      "Ensemble MSE (bias) = 5.94887190493783\n",
      "Bootstrap std. dev (variance) = 3.2674353202404203\n",
      "Mean square zscore = 3.3147840182819586\n",
      "\n",
      "Sensitivity parameter: depth of trees in the random forrest =  8\n",
      "Ensemble MSE (bias) = 5.94887190493783\n",
      "Bootstrap std. dev (variance) = 3.2674353202404203\n",
      "Mean square zscore = 3.3147840182819586\n",
      "\n",
      "Sensitivity parameter: depth of trees in the random forrest =  9\n",
      "Ensemble MSE (bias) = 5.94887190493783\n",
      "Bootstrap std. dev (variance) = 3.2674353202404203\n",
      "Mean square zscore = 3.3147840182819586\n",
      "\n",
      "Sensitivity parameter: depth of trees in the random forrest =  10\n",
      "Ensemble MSE (bias) = 5.94887190493783\n",
      "Bootstrap std. dev (variance) = 3.2674353202404203\n",
      "Mean square zscore = 3.3147840182819586\n"
     ]
    }
   ],
   "source": [
    "# Initiate list to store various ensemble performance parameters\n",
    "n = 10\n",
    "MSE=np.zeros(n)\n",
    "STD=np.zeros(n)\n",
    "ZSCORE=np.zeros(n)\n",
    "test_range = np.arange(1,n+1)\n",
    "\n",
    "# Carry out a sensitivity analysis for the random forrest size\n",
    "for i, max_depth in enumerate(test_range):\n",
    "    print('\\nSensitivity parameter: depth of trees in the random forrest = ', max_depth)\n",
    "    (MSE[i], STD[i], ZSCORE[i]) = bbv_rf_ensemble_evaluation(\n",
    "        x_train, x_test, y_train, n_trees=10, max_depth=max_depth, ndim=10)"
   ]
  },
  {
   "cell_type": "code",
   "execution_count": null,
   "metadata": {
    "colab": {},
    "colab_type": "code",
    "id": "FjYZwr29DEQ8",
    "outputId": "cfd511d8-c35a-4649-e884-fe1606826833"
   },
   "outputs": [
    {
     "data": {
      "image/png": "[encoded data removed]",
      "text/plain": [
       "<Figure size 600x400 with 1 Axes>"
      ]
     },
     "metadata": {
      "needs_background": "light",
      "tags": []
     },
     "output_type": "display_data"
    }
   ],
   "source": [
    "# Plot the results\n",
    "plt.figure(figsize=(6, 4), dpi=100)\n",
    "plt.scatter(test_range, MSE, s=20, edgecolor=\"black\", c=\"darkorange\", label=\"MSE\")\n",
    "plt.scatter(test_range, STD, s=20, c=\"cornflowerblue\", label='Std. dev')\n",
    "plt.scatter(test_range, ZSCORE, s=20, c=\"green\", label='ZSCORE')\n",
    "plt.xlabel('max_depth=' + str(max_depth))\n",
    "plt.ylabel('Error')\n",
    "plt.title(\"Random Forrest Ensemble Performance (sensitivity to tree depth)\")\n",
    "plt.legend()\n",
    "plt.show()"
   ]
  },
  {
   "cell_type": "markdown",
   "metadata": {
    "colab_type": "text",
    "id": "xGxLbgUiDEQ_"
   },
   "source": [
    "The forrest is sensitive to tree depth and an optimum is achieved at a depth over 5. \n",
    "\n",
    "Finally, another method to increase the accuracy of the ensemble would be to allow the exchange of information between the various decision trees within it. This would improve single model error, but it would increase correlation between models $\\sqrt{\\bar{\\rho}}$ . As long as the improvement in single model error is greater it could prove an efficient method to increase accuracy and reduce."
   ]
  },
  {
   "cell_type": "markdown",
   "metadata": {
    "colab_type": "text",
    "id": "OMA0TCYkDERA"
   },
   "source": [
    "**Sensitivity to the number of features (ndim)**\n",
    "\n",
    "Since out of the 10 features of interest parsed only 5 are providing relevant information, it would be interesting to see the sensivity of the ensable to this parameter."
   ]
  },
  {
   "cell_type": "code",
   "execution_count": null,
   "metadata": {
    "colab": {},
    "colab_type": "code",
    "id": "o3f7yEM3DERB",
    "outputId": "56785725-6ae3-49cc-e545-64df2b312f37",
    "scrolled": true
   },
   "outputs": [
    {
     "name": "stdout",
     "output_type": "stream",
     "text": [
      "\n",
      "Sensitivity parameter: number of features =  1\n",
      "Ensemble MSE (bias) = 6.131906538627389\n",
      "Bootstrap std. dev (variance) = 2.5530541629441306\n",
      "Mean square zscore = 5.782452055891142\n",
      "\n",
      "Sensitivity parameter: number of features =  2\n",
      "Ensemble MSE (bias) = 6.13397003552876\n",
      "Bootstrap std. dev (variance) = 2.5321475842822436\n",
      "Mean square zscore = 5.879566489466349\n",
      "\n",
      "Sensitivity parameter: number of features =  3\n",
      "Ensemble MSE (bias) = 6.089076406427704\n",
      "Bootstrap std. dev (variance) = 2.595771301205456\n",
      "Mean square zscore = 5.519848955552325\n",
      "\n",
      "Sensitivity parameter: number of features =  4\n",
      "Ensemble MSE (bias) = 6.103613241755419\n",
      "Bootstrap std. dev (variance) = 2.5682185411383522\n",
      "Mean square zscore = 5.6695474482739385\n",
      "\n",
      "Sensitivity parameter: number of features =  5\n",
      "Ensemble MSE (bias) = 6.1019953076712\n",
      "Bootstrap std. dev (variance) = 2.5216787165674655\n",
      "Mean square zscore = 5.8790489449722845\n",
      "\n",
      "Sensitivity parameter: number of features =  6\n",
      "Ensemble MSE (bias) = 6.092170092602257\n",
      "Bootstrap std. dev (variance) = 2.5818381389687985\n",
      "Mean square zscore = 5.575833498600839\n",
      "\n",
      "Sensitivity parameter: number of features =  7\n",
      "Ensemble MSE (bias) = 6.135927322960331\n",
      "Bootstrap std. dev (variance) = 2.586901378192703\n",
      "Mean square zscore = 5.655099992503312\n",
      "\n",
      "Sensitivity parameter: number of features =  8\n",
      "Ensemble MSE (bias) = 6.141779811220007\n",
      "Bootstrap std. dev (variance) = 2.531795815981766\n",
      "Mean square zscore = 5.900711896383239\n",
      "\n",
      "Sensitivity parameter: number of features =  9\n",
      "Ensemble MSE (bias) = 6.127122686517526\n",
      "Bootstrap std. dev (variance) = 2.53444618013428\n",
      "Mean square zscore = 5.861502515578854\n",
      "\n",
      "Sensitivity parameter: number of features =  10\n",
      "Ensemble MSE (bias) = 6.143708297981033\n",
      "Bootstrap std. dev (variance) = 2.542348769835347\n",
      "Mean square zscore = 5.850190134061538\n"
     ]
    }
   ],
   "source": [
    "# Initiate list to store various ensemble performance parameters\n",
    "n = 10\n",
    "MSE=np.zeros(n)\n",
    "STD=np.zeros(n)\n",
    "ZSCORE=np.zeros(n)\n",
    "test_range = np.arange(1,n+1)\n",
    "\n",
    "# Carry out a sensitivity analysis for the random forrest size\n",
    "for i, ndim in enumerate(test_range):\n",
    "    print('\\nSensitivity parameter: number of features = ', ndim)\n",
    "    (MSE[i], STD[i], ZSCORE[i]) = bbv_rf_ensemble_evaluation(\n",
    "        x_train, x_test, y_train, n_trees=10, max_depth=1, ndim=ndim)"
   ]
  },
  {
   "cell_type": "code",
   "execution_count": null,
   "metadata": {
    "colab": {},
    "colab_type": "code",
    "id": "CenWoj41DERD",
    "outputId": "d31e593d-81cb-4607-8691-48ddd7a9edaf"
   },
   "outputs": [
    {
     "data": {
      "image/png": "[encoded data removed]",
      "text/plain": [
       "<Figure size 600x400 with 1 Axes>"
      ]
     },
     "metadata": {
      "needs_background": "light",
      "tags": []
     },
     "output_type": "display_data"
    }
   ],
   "source": [
    "# Plot the results\n",
    "plt.figure(figsize=(6, 4), dpi=100)\n",
    "plt.scatter(test_range, MSE, s=20, edgecolor=\"black\", c=\"darkorange\", label=\"MSE\")\n",
    "plt.scatter(test_range, STD, s=20, c=\"cornflowerblue\", label='Std. dev')\n",
    "plt.scatter(test_range, ZSCORE, s=20, c=\"green\", label='ZSCORE')\n",
    "plt.xlabel('ndim=' + str(ndim))\n",
    "plt.ylabel('Error')\n",
    "plt.title(\"Random Forrest Ensemble Performance (sensitivity to the number of features)\")\n",
    "plt.legend()\n",
    "plt.show()"
   ]
  },
  {
   "cell_type": "markdown",
   "metadata": {
    "colab_type": "text",
    "id": "HBAvUzI6DERG"
   },
   "source": [
    "The ensemble performance fluctuates as it choses features that are predictors and features that are not. The graph changes on each run."
   ]
  },
  {
   "cell_type": "code",
   "execution_count": null,
   "metadata": {
    "colab": {},
    "colab_type": "code",
    "id": "DaNnU1DaDERG"
   },
   "outputs": [],
   "source": [
    "# Export as PDF\n",
    "# !apt-get install texlive texlive-xetex texlive-latex-extra pandoc\n",
    "# !pip install pypandoc\n",
    "!jupyter nbconvert --to PDF \"HW5P1.ipynb\""
   ]
  }
 ],
 "metadata": {
  "colab": {
   "collapsed_sections": [],
   "name": "HW5P1.ipynb",
   "provenance": []
  },
  "kernelspec": {
   "display_name": "Python 3",
   "language": "python",
   "name": "python3"
  },
  "language_info": {
   "codemirror_mode": {
    "name": "ipython",
    "version": 3
   },
   "file_extension": ".py",
   "mimetype": "text/x-python",
   "name": "python",
   "nbconvert_exporter": "python",
   "pygments_lexer": "ipython3",
   "version": "3.7.1"
  }
 },
 "nbformat": 4,
 "nbformat_minor": 2
}
